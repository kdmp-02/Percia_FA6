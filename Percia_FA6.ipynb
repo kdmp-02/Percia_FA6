{
 "cells": [
  {
   "cell_type": "markdown",
   "metadata": {},
   "source": [
    "Number 1"
   ]
  },
  {
   "cell_type": "code",
   "execution_count": 37,
   "metadata": {},
   "outputs": [
    {
     "name": "stdout",
     "output_type": "stream",
     "text": [
      "Enter the base : 2\n",
      "Enter the exponent : -3\n",
      "\n",
      "Solving Exponents Iteratively: \n",
      "0.125\n",
      "Time taken : 0.00655817985534668\n",
      "\n",
      "Solving Exponents Recursively: \n",
      "0.125\n",
      "Time taken : 0.11598539352416992\n"
     ]
    },
    {
     "data": {
      "text/plain": [
       "' \\nFrom the two functions, it is seen that the function iterative_exponent() performs faster than the \\nfunction recursive_exponent(). The function recursive_exponent() takes more time to execute due to \\nits overhead of function calls unlike the iterative_exponent() function whose execution was arrived\\nwith the use of loops.\\n'"
      ]
     },
     "execution_count": 37,
     "metadata": {},
     "output_type": "execute_result"
    }
   ],
   "source": [
    "import time \n",
    "import math as m\n",
    "import numpy as np\n",
    "\n",
    "def iterative_exponent(base1,exp1):\n",
    "    if base1 == 0:\n",
    "        if exp1 <= 0:\n",
    "            print(\"0 cannot be raised to numbers less than or equal to 0!\")\n",
    "        else:\n",
    "            return 0\n",
    "    elif exp1 == 0:\n",
    "        return 1\n",
    "    elif exp1 < 0:\n",
    "        #This is the way of solving exponents iteratively\n",
    "        n=base1\n",
    "        for a in range(1,exp1*-1):\n",
    "            n*=base1\n",
    "        return 1/n\n",
    "    else:\n",
    "        n=base1\n",
    "        for a in range(1,exp1):\n",
    "            n*=base1\n",
    "        return n\n",
    "\n",
    "\n",
    "def recursive_exponent(base2,exp2):\n",
    "    if base2 == 0:\n",
    "        if exp2 <= 0:\n",
    "            print(\"0 cannot be raised to numbers less than or equal to 0!\")\n",
    "        else:\n",
    "            return 0\n",
    "    elif exp2 == 0:\n",
    "        return 1\n",
    "    elif exp2 < 0:\n",
    "        #This is the way of solving exponents recursively\n",
    "        if exp2 == -1:\n",
    "            return base2\n",
    "        else:\n",
    "            return (base2*recursive_exponent(base2,exp2+1))\n",
    "    else:\n",
    "        if exp2 == 1:\n",
    "            return base2\n",
    "        else:\n",
    "            return (base2*recursive_exponent(base2,exp2-1))\n",
    "\n",
    "a=float(input(\"Enter the base : \"))\n",
    "b=int(input(\"Enter the exponent : \"))\n",
    "\n",
    "print(\"\\nSolving Exponents Iteratively: \")\n",
    "istart=time.time()\n",
    "print(iterative_exponent(a,b))\n",
    "iend=time.time()\n",
    "itime=float(iend-istart)\n",
    "print(\"Time taken : \"+str(itime))\n",
    "\n",
    "\n",
    "print(\"\\nSolving Exponents Recursively: \")\n",
    "rstart=time.time()\n",
    "if b < 0:\n",
    "    print(np.reciprocal(recursive_exponent(a,b)))\n",
    "else:\n",
    "    print(recursive_exponent(a,b))\n",
    "rend=time.time()\n",
    "rtime=float(rend-rstart)\n",
    "print(\"Time taken : \"+str(rtime))\n",
    "\n",
    "\"\"\" \n",
    "From the two functions, it is seen that the function iterative_exponent() performs faster than the \n",
    "function recursive_exponent(). The function recursive_exponent() takes more time to execute due to \n",
    "its overhead of function calls unlike the iterative_exponent() function whose execution was arrived\n",
    "with the use of loops.\n",
    "\"\"\""
   ]
  },
  {
   "cell_type": "markdown",
   "metadata": {},
   "source": [
    "Number 2"
   ]
  },
  {
   "cell_type": "code",
   "execution_count": 38,
   "metadata": {},
   "outputs": [
    {
     "name": "stdout",
     "output_type": "stream",
     "text": [
      "Solving the sum of the first n powers of 2:\n",
      "Enter the value of n : 3\n",
      "\n",
      "Iterative solution: \n",
      "15\n",
      "Time taken : 0.0\n",
      "\n",
      "Recursive solution: \n",
      "15\n",
      "Time taken : 0.0016705989837646484\n"
     ]
    }
   ],
   "source": [
    "def iterative_2exponent(i):\n",
    "    if i < 0:\n",
    "        print(\"The value of n should be a whole number!\")\n",
    "    else:\n",
    "        x=0\n",
    "        for a in range(0,i+1):\n",
    "           x+=2**a\n",
    "        return x\n",
    "\n",
    "def recursive_2exponent(r):\n",
    "    if r < 0:\n",
    "        print(\"The value of n should be a whole number!\")\n",
    "    else:\n",
    "        if r == 0:\n",
    "            return 1\n",
    "        else:\n",
    "            return (2**r)+recursive_2exponent(r-1)\n",
    "\n",
    "print(\"Solving the sum of the first n powers of 2:\")\n",
    "n=int(input(\"Enter the value of n : \"))\n",
    "\n",
    "print(\"\\nIterative solution: \")\n",
    "i2start = time.time()\n",
    "print(iterative_2exponent(n))\n",
    "i2end = time.time()\n",
    "i2time = float(i2end - i2start)\n",
    "print(\"Time taken : \"+str(i2time))\n",
    "\n",
    "print(\"\\nRecursive solution: \")\n",
    "r2start = time.time()\n",
    "print(recursive_2exponent(n))\n",
    "r2end = time.time()\n",
    "r2time = float(r2end - r2start)\n",
    "print(\"Time taken : \"+str(r2time))\n",
    "\n",
    "\"\"\"\n",
    "Same reason with number 1, the recursive solution in solving the sum of the first\n",
    "n powers of 2 takes more time than the iterative solution due to its overhead calls \n",
    "of functions\n",
    "\"\"\""
   ]
  },
  {
   "cell_type": "code",
   "execution_count": null,
   "metadata": {},
   "outputs": [],
   "source": []
  }
 ],
 "metadata": {
  "kernelspec": {
   "display_name": "Python 3",
   "language": "python",
   "name": "python3"
  },
  "language_info": {
   "codemirror_mode": {
    "name": "ipython",
    "version": 3
   },
   "file_extension": ".py",
   "mimetype": "text/x-python",
   "name": "python",
   "nbconvert_exporter": "python",
   "pygments_lexer": "ipython3",
   "version": "3.7.0"
  }
 },
 "nbformat": 4,
 "nbformat_minor": 2
}
